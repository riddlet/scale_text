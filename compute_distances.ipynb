{
 "cells": [
  {
   "cell_type": "markdown",
   "metadata": {},
   "source": [
    "Import modules"
   ]
  },
  {
   "cell_type": "code",
   "execution_count": 1,
   "metadata": {
    "collapsed": true
   },
   "outputs": [],
   "source": [
    "from gensim import models\n",
    "import pandas as pd\n",
    "import numpy as np\n",
    "from time import time"
   ]
  },
  {
   "cell_type": "markdown",
   "metadata": {},
   "source": [
    "Read in data and the word2vec embeddings. If you don't have the word2vec file, you'll need to download it from [here](https://code.google.com/archive/p/word2vec/) (scroll to \"Pre-trained word and phrase vectors\" - the file is big. Over 1.5gb)."
   ]
  },
  {
   "cell_type": "code",
   "execution_count": 2,
   "metadata": {
    "collapsed": true
   },
   "outputs": [],
   "source": [
    "df = pd.read_excel('/Users/travis/Documents/gits/Data/IED_18Feb.xlsx', sheetname=1)"
   ]
  },
  {
   "cell_type": "code",
   "execution_count": 3,
   "metadata": {
    "collapsed": false
   },
   "outputs": [],
   "source": [
    "model = models.KeyedVectors.load_word2vec_format('/Users/travis/Documents/gits/w2v/GoogleNews-vectors-negative300.bin.gz', binary=True)"
   ]
  },
  {
   "cell_type": "markdown",
   "metadata": {},
   "source": [
    "Create an empty square matrix and fill in the upper triangle with distances"
   ]
  },
  {
   "cell_type": "code",
   "execution_count": 4,
   "metadata": {
    "collapsed": false
   },
   "outputs": [],
   "source": [
    "start = time()\n",
    "empty_mat = np.zeros(shape=[df.shape[0], df.shape[0]])\n",
    "for i in range(0, empty_mat.shape[1]-1): #rows\n",
    "        for j in range(i+1, empty_mat.shape[1]): #columns\n",
    "                empty_mat[i, j] = model.wmdistance(df.RawContent.iloc[i], df.RawContent.iloc[j])\n",
    "\n",
    "end = time()"
   ]
  },
  {
   "cell_type": "code",
   "execution_count": 5,
   "metadata": {
    "collapsed": false
   },
   "outputs": [
    {
     "data": {
      "text/plain": [
       "1617.2232780456543"
      ]
     },
     "execution_count": 5,
     "metadata": {},
     "output_type": "execute_result"
    }
   ],
   "source": [
    "end-start #how many seconds did that take?"
   ]
  },
  {
   "cell_type": "markdown",
   "metadata": {},
   "source": [
    "Put the item names and scores into lists for writing into a nice, clean dataframe"
   ]
  },
  {
   "cell_type": "code",
   "execution_count": 6,
   "metadata": {
    "collapsed": false
   },
   "outputs": [],
   "source": [
    "item_1 = []\n",
    "item_2 = []\n",
    "score = []\n",
    "for i in range(0, empty_mat.shape[1]-1): #rows\n",
    "        for j in range(i+1, empty_mat.shape[1]): #columns\n",
    "            item_1.append(df.Scale.iloc[i])\n",
    "            item_2.append(df.Scale.iloc[j])\n",
    "            score.append(empty_mat[i,j])"
   ]
  },
  {
   "cell_type": "markdown",
   "metadata": {},
   "source": [
    "And write to disk for loading elsewhere!"
   ]
  },
  {
   "cell_type": "code",
   "execution_count": 7,
   "metadata": {
    "collapsed": false
   },
   "outputs": [],
   "source": [
    "out_dat = pd.DataFrame({'item_1':item_1,\n",
    "                      'item_2':item_2,\n",
    "                      'score':score})\n",
    "out_dat.to_csv('/Users/travis/Documents/gits/Data/IED_distscores.csv', index=False)"
   ]
  },
  {
   "cell_type": "code",
   "execution_count": null,
   "metadata": {
    "collapsed": true
   },
   "outputs": [],
   "source": []
  }
 ],
 "metadata": {
  "kernelspec": {
   "display_name": "Python 2",
   "language": "python",
   "name": "python2"
  },
  "language_info": {
   "codemirror_mode": {
    "name": "ipython",
    "version": 2
   },
   "file_extension": ".py",
   "mimetype": "text/x-python",
   "name": "python",
   "nbconvert_exporter": "python",
   "pygments_lexer": "ipython2",
   "version": "2.7.11"
  }
 },
 "nbformat": 4,
 "nbformat_minor": 0
}
